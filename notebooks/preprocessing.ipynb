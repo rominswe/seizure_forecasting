{
 "cells": [
  {
   "cell_type": "code",
   "execution_count": null,
   "id": "aee3a34a",
   "metadata": {},
   "outputs": [],
   "source": [
    "import mne\n",
    "edf_path = \"../data/physionet.org/files/chbmit/1.0.0/chb01/chb01_01.edf\"\n",
    "raw = mne.io.read_raw_edf(edf_path, preload=True)\n",
    "raw.info"
   ]
  },
  {
   "cell_type": "code",
   "execution_count": null,
   "id": "b4976c16",
   "metadata": {},
   "outputs": [],
   "source": [
    "# Apply band-pass filter (0.5–40 Hz)\n",
    "raw.filter(0.5, 40., fir_design='firwin')\n",
    "\n",
    "# Downsample to 128 Hz\n",
    "raw.resample(128)\n",
    "\n",
    "# Plot a short segment (first 10 seconds, 10 channels)\n",
    "raw.plot(duration=10, n_channels=10)"
   ]
  },
  {
   "cell_type": "code",
   "execution_count": null,
   "id": "8667035c",
   "metadata": {},
   "outputs": [],
   "source": [
    "import numpy as np\n",
    "\n",
    "# Extract the data and channel names\n",
    "data, times = raw.get_data(return_times=True)\n",
    "print(\"EEG shape:\", data.shape)\n",
    "print(\"Time duration (s):\", times[-1])"
   ]
  },
  {
   "cell_type": "code",
   "execution_count": null,
   "id": "a64153ea",
   "metadata": {},
   "outputs": [],
   "source": [
    "def create_windows(data, sfreq=128, window_size=30, stride=10):\n",
    "    samples_per_window = int(window_size * sfreq)\n",
    "    step = int(stride * sfreq)\n",
    "    windows = []\n",
    "    for start in range(0, data.shape[1] - samples_per_window, step):\n",
    "        end = start + samples_per_window\n",
    "        windows.append(data[:, start:end])\n",
    "    return np.array(windows)\n",
    "\n",
    "# Create windows (30s window, 10s stride)\n",
    "windows = create_windows(data, sfreq=128, window_size=30, stride=10)\n",
    "print(\"Windows shape:\", windows.shape)"
   ]
  },
  {
   "cell_type": "code",
   "execution_count": null,
   "id": "f65d6a89",
   "metadata": {},
   "outputs": [],
   "source": [
    "import matplotlib.pyplot as plt\n",
    "\n",
    "plt.figure(figsize=(10, 4))\n",
    "plt.plot(windows[0][0][:1000])  # first channel, 1000 samples (~8 seconds)\n",
    "plt.title(\"EEG signal (first window, first channel)\")\n",
    "plt.xlabel(\"Samples\")\n",
    "plt.ylabel(\"Amplitude (µV)\")\n",
    "plt.show()"
   ]
  },
  {
   "cell_type": "code",
   "execution_count": null,
   "id": "955fb49a",
   "metadata": {},
   "outputs": [],
   "source": [
    "import re\n",
    "import numpy as np\n",
    "import pandas as pd\n",
    "\n",
    "# Path to your summary file (update this with your actual path)\n",
    "summary_file = \"../data/physionet.org/files/chbmit/1.0.0/chb01/chb01-summary.txt\"\n",
    "\n",
    "# Read summary file\n",
    "with open(summary_file, \"r\") as f:\n",
    "    summary_text = f.read()\n",
    "\n",
    "# Extract seizure intervals for each record using regex\n",
    "pattern = r\"File Name: (\\S+\\.edf).*?Seizure Start Time: (\\d+) seconds.*?Seizure End Time: (\\d+) seconds\"\n",
    "matches = re.findall(pattern, summary_text, re.DOTALL)\n",
    "\n",
    "# Store seizure intervals in a dictionary\n",
    "seizure_dict = {}\n",
    "for file_name, start, end in matches:\n",
    "    if file_name not in seizure_dict:\n",
    "        seizure_dict[file_name] = []\n",
    "    seizure_dict[file_name].append((int(start), int(end)))\n",
    "\n",
    "print(\"Extracted seizure intervals:\")\n",
    "for k, v in seizure_dict.items():\n",
    "    print(f\"{k}: {v}\")\n",
    "\n",
    "# Example: labeling for one EDF file\n",
    "edf_name = \"chb01_03.edf\"  # change this to match your loaded file\n",
    "seizure_intervals = seizure_dict.get(edf_name, [])\n",
    "\n",
    "# Label creation\n",
    "window_size = 3840 / 256  # 15 seconds\n",
    "window_starts = np.arange(0, len(windows)) * window_size\n",
    "labels = np.zeros(len(windows))\n",
    "\n",
    "for start, end in seizure_intervals:\n",
    "    for i, win_start in enumerate(window_starts):\n",
    "        win_end = win_start + window_size\n",
    "        if (win_start < end) and (win_end > start):\n",
    "            labels[i] = 1\n",
    "\n",
    "labels_df = pd.DataFrame({\n",
    "    \"window_index\": np.arange(len(windows)),\n",
    "    \"start_time_sec\": window_starts,\n",
    "    \"label\": labels\n",
    "})\n",
    "\n",
    "print(labels_df.head(10))\n",
    "print(f\"Seizure windows: {np.sum(labels==1)}, Non-seizure: {np.sum(labels==0)}\")\n"
   ]
  }
 ],
 "metadata": {
  "kernelspec": {
   "display_name": "venv (3.14.0)",
   "language": "python",
   "name": "python3"
  },
  "language_info": {
   "codemirror_mode": {
    "name": "ipython",
    "version": 3
   },
   "file_extension": ".py",
   "mimetype": "text/x-python",
   "name": "python",
   "nbconvert_exporter": "python",
   "pygments_lexer": "ipython3",
   "version": "3.14.0"
  }
 },
 "nbformat": 4,
 "nbformat_minor": 5
}
